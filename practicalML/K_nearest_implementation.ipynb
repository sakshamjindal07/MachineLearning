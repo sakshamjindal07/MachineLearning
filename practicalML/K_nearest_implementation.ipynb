{
 "cells": [
  {
   "cell_type": "code",
   "execution_count": 14,
   "metadata": {
    "collapsed": false
   },
   "outputs": [
    {
     "name": "stdout",
     "output_type": "stream",
     "text": [
      "[('k', 3)]\n",
      "[('k', 2)]\n",
      "[('r', 2)]\n"
     ]
    },
    {
     "name": "stderr",
     "output_type": "stream",
     "text": [
      "/root/anaconda3/lib/python3.5/site-packages/matplotlib/collections.py:590: FutureWarning: elementwise comparison failed; returning scalar instead, but in the future will perform elementwise comparison\n",
      "  if self._edgecolors == str('face'):\n"
     ]
    },
    {
     "data": {
      "image/png": "[encoded data removed]",
      "text/plain": [
       "<matplotlib.figure.Figure at 0x7fc91504e710>"
      ]
     },
     "metadata": {},
     "output_type": "display_data"
    }
   ],
   "source": [
    "import numpy as np\n",
    "from math import sqrt\n",
    "%matplotlib inline\n",
    "import matplotlib.pyplot as plt\n",
    "import warnings\n",
    "from matplotlib import style\n",
    "from collections import Counter\n",
    "style.use('fivethirtyeight')\n",
    "\n",
    "dataset = { 'k':[[1,2],[2,3],[3,1]], 'r':[[6,5],[7,7],[8,6]]}  # we are just defining the classes which are k and r \n",
    "\n",
    "new_features = [5,7]\n",
    "new_features2 = [2,4]\n",
    "new_features3 = [4,4]\n",
    "\n",
    "\n",
    "#[[plt.scatter(ii[0],ii[1] , s = 100 , color = i) for ii in dataset[i]] for i in dataset]\n",
    "#plt.scatter(new_features[0],new_features[1])\n",
    "#plt.show()\n",
    "\n",
    "def k_nearest_neighbours(data,predict,k=3):\n",
    "    if len(data) >= k:\n",
    "        warnings.warn('K is set for value less than total voting groups')\n",
    "        \n",
    "    distances = []\n",
    "    \n",
    "    for group in data:\n",
    "        for features in data[group]:\n",
    "            #eucledian_distance = sqrt((features[0] - predict[0])**2 + (features[1]-predict[1])**2)\n",
    "            eucledian_distance = np.linalg.norm(np.array(features)-np.array(predict))\n",
    "            distances.append([eucledian_distance,group])\n",
    "            #print(distances)\n",
    "   \n",
    "    #print(sorted(distances))\n",
    "    votes = [i[1] for i in sorted(distances)[:k]]\n",
    "    #print(votes)\n",
    "    \n",
    "    print(Counter(votes).most_common(1))\n",
    "    vote_result = Counter(votes).most_common(1)[0][0]\n",
    "    \n",
    "    return vote_result\n",
    "\n",
    "#result = k_nearest_neighbours(dataset,new_features)\n",
    "#print(result)\n",
    "\n",
    "\n",
    "[ [plt.scatter(ii[0], ii[1], s=100, color=i) for ii in dataset[i] ] for i in dataset]\n",
    "#plt.scatter(new_features[0], new_features[1], s=100, color='y', marker='s'  )\n",
    "plt.scatter(new_features[0], new_features[1], s=100, color=result, marker='s'  )\n",
    "#now classify second point.\n",
    "result = k_nearest_neighbours(dataset, new_features2, k=3)\n",
    "plt.scatter(new_features2[0], new_features2[1], s=100, color=result, marker='s'  )\n",
    "result = k_nearest_neighbours(dataset, new_features3, k=3)\n",
    "plt.scatter(new_features3[0], new_features3[1], s=100, color=result, marker='s'  )\n",
    "new_features4 = [4,5]\n",
    "result = k_nearest_neighbours(dataset, new_features4, k=3)\n",
    "plt.scatter(new_features4[0], new_features4[1], s=100, color=result, marker='s'  )\n",
    "\n",
    "plt.show()\n",
    "\n"
   ]
  },
  {
   "cell_type": "code",
   "execution_count": null,
   "metadata": {
    "collapsed": true
   },
   "outputs": [],
   "source": []
  }
 ],
 "metadata": {
  "kernelspec": {
   "display_name": "Python 3",
   "language": "python",
   "name": "python3"
  },
  "language_info": {
   "codemirror_mode": {
    "name": "ipython",
    "version": 3
   },
   "file_extension": ".py",
   "mimetype": "text/x-python",
   "name": "python",
   "nbconvert_exporter": "python",
   "pygments_lexer": "ipython3",
   "version": "3.5.0"
  }
 },
 "nbformat": 4,
 "nbformat_minor": 0
}
