{
 "cells": [
  {
   "cell_type": "code",
   "execution_count": 53,
   "metadata": {
    "collapsed": false
   },
   "outputs": [
    {
     "name": "stdout",
     "output_type": "stream",
     "text": [
      "453.333333333\n",
      "102.721088435\n"
     ]
    },
    {
     "name": "stderr",
     "output_type": "stream",
     "text": [
      "/root/anaconda3/lib/python3.5/site-packages/matplotlib/collections.py:590: FutureWarning: elementwise comparison failed; returning scalar instead, but in the future will perform elementwise comparison\n",
      "  if self._edgecolors == str('face'):\n"
     ]
    },
    {
     "data": {
      "image/png": "[encoded data removed]",
      "text/plain": [
       "<matplotlib.figure.Figure at 0x7fb8238f94a8>"
      ]
     },
     "metadata": {},
     "output_type": "display_data"
    }
   ],
   "source": [
    "%matplotlib inline\n",
    "import matplotlib.pyplot as plt\n",
    "from matplotlib import style\n",
    "style.use('ggplot')\n",
    "import numpy as np\n",
    "\n",
    "X = np.array([[1,2],\n",
    "             [1.5,1.8],\n",
    "            [5, 8 ],\n",
    "             [8,8],\n",
    "             [1,0.6],\n",
    "             [9,11]])\n",
    "\n",
    "#plt.scatter(X[:,0],X[:,1], s=150)\n",
    "#plt.show()\n",
    "\n",
    "colors = 10*[\"g\",\"r\",\"c\",\"b\",\"k\"]\n",
    "\n",
    "class K_Means:\n",
    "    \n",
    "    def __init__(self,k=2,tol=0.0001,max_iter=300):\n",
    "        self.k = k\n",
    "        self.tol = tol\n",
    "        self.max_iter = max_iter\n",
    "        \n",
    "    def fit(self,data):\n",
    "        self.centroids = {}\n",
    "        \n",
    "        for i in range(self.k):\n",
    "            self.centroids[i] = data[i]\n",
    "            \n",
    "        for i in range(self.max_iter):\n",
    "            self.classifications ={}\n",
    "            \n",
    "            for i in range(self.k):\n",
    "                self.classifications[i] = []\n",
    "             \n",
    "            # for each of the featureset we are assigning it to a particular cluster by minising the distance of the particuaar\n",
    "            # centroid of the corresponding cluster\n",
    "            \n",
    "            for featureset in data:\n",
    "                distances = [np.linalg.norm(featureset-self.centroids[centroid]) for centroid in self.centroids]\n",
    "                classification = distances.index(min(distances))\n",
    "                self.classifications[classification].append(featureset)\n",
    "                \n",
    "            prev_centroids = dict(self.centroids)\n",
    "            \n",
    "            ##  ressigning the centroid of the cluster by recalculating the centroid of each cluster . After that we will again reclassify\n",
    "            \n",
    "            for classification in self.classifications:\n",
    "                self.centroids[classification] = np.average(self.classifications[classification],axis=0)\n",
    "                \n",
    "            optimized = True\n",
    "            \n",
    "            for c in self.centroids:\n",
    "                original_centroid = prev_centroids[c]\n",
    "                current_centroid = self.centroids[c]\n",
    "            \n",
    "            if np.sum((current_centroid - original_centroid)/original_centroid *100.0) > self.tol :\n",
    "                print(np.sum((current_centroid - original_centroid)/original_centroid *100.0))\n",
    "                optimized = False\n",
    "                \n",
    "            if optimized:\n",
    "                break\n",
    "\n",
    "    def predict(self,data):\n",
    "        distances = [np.linalg.norm(data-self.centroids[centroid]) for centroid in self.centroids]\n",
    "        classification = distances.index(min(distances))\n",
    "        return classification\n",
    "\n",
    "clf = K_Means()\n",
    "clf.fit(X)\n",
    "\n",
    "for centroid in clf.centroids:\n",
    "    plt.scatter(clf.centroids[centroid][0],clf.centroids[centroid][1],marker = \"o\",color=\"k\",s=150,linewidths=5)\n",
    "    \n",
    "for classification in clf.classifications:\n",
    "    colour = colors[classification]\n",
    "    \n",
    "    for featureset in clf.classifications[classification]:\n",
    "        plt.scatter(featureset[0],featureset[1],color = colour , marker =\"x\",s=150,linewidths=5)\n",
    "        \n",
    "unknowns = np.array([[1,3],\n",
    "                    [8,9],\n",
    "                    [0,3],\n",
    "                    [5,4],\n",
    "                    [6,4]])\n",
    "\n",
    "for unknown in unknowns:\n",
    "    classification = clf.predict(unknown)\n",
    "    \n",
    "    plt.scatter(unknown[0],unknown[1], marker = \"*\", color= colors[classification],s=150,linewidth=5)\n",
    "    \n",
    "plt.show()\n"
   ]
  },
  {
   "cell_type": "code",
   "execution_count": null,
   "metadata": {
    "collapsed": false
   },
   "outputs": [],
   "source": [
    "\n",
    "    "
   ]
  },
  {
   "cell_type": "code",
   "execution_count": null,
   "metadata": {
    "collapsed": true
   },
   "outputs": [],
   "source": []
  }
 ],
 "metadata": {
  "kernelspec": {
   "display_name": "Python 3",
   "language": "python",
   "name": "python3"
  },
  "language_info": {
   "codemirror_mode": {
    "name": "ipython",
    "version": 3
   },
   "file_extension": ".py",
   "mimetype": "text/x-python",
   "name": "python",
   "nbconvert_exporter": "python",
   "pygments_lexer": "ipython3",
   "version": "3.5.0"
  }
 },
 "nbformat": 4,
 "nbformat_minor": 0
}
