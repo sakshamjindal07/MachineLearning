{
 "cells": [
  {
   "cell_type": "code",
   "execution_count": 34,
   "metadata": {
    "collapsed": false
   },
   "outputs": [],
   "source": [
    "\n",
    "import numpy as np # linear algebra\n",
    "import pandas as pd # data processing, CSV file I/O (e.g. pd.read_csv)\n",
    "from sklearn import preprocessing\n",
    "from sklearn.model_selection import cross_val_score\n",
    "from sklearn import metrics\n",
    "import seaborn as sns\n",
    "import matplotlib\n",
    "import matplotlib.pyplot as plt\n",
    "from scipy.stats import skew\n",
    "from scipy.stats.stats import pearsonr\n",
    "\n",
    "from sklearn.linear_model import Ridge, RidgeCV, ElasticNet, LassoCV, LassoLarsCV , Lasso\n",
    "\n",
    "matplotlib.rcParams['figure.figsize'] = (12.0, 6.0)\n",
    "\n",
    "%config InlineBackend.figure_format = 'retina' #set 'png' here when working on notebook\n",
    "%matplotlib inline"
   ]
  },
  {
   "cell_type": "code",
   "execution_count": 7,
   "metadata": {
    "collapsed": false
   },
   "outputs": [
    {
     "data": {
      "text/html": [
       "<div>\n",
       "<table border=\"1\" class=\"dataframe\">\n",
       "  <thead>\n",
       "    <tr style=\"text-align: right;\">\n",
       "      <th></th>\n",
       "      <th>MSSubClass</th>\n",
       "      <th>LotFrontage</th>\n",
       "      <th>LotArea</th>\n",
       "      <th>OverallQual</th>\n",
       "      <th>OverallCond</th>\n",
       "      <th>YearBuilt</th>\n",
       "      <th>YearRemodAdd</th>\n",
       "      <th>MasVnrArea</th>\n",
       "      <th>BsmtFinSF1</th>\n",
       "      <th>BsmtFinSF2</th>\n",
       "      <th>...</th>\n",
       "      <th>Functional_Min2</th>\n",
       "      <th>BldgType_Twnhs</th>\n",
       "      <th>RoofStyle_Mansard</th>\n",
       "      <th>RoofMatl_CompShg</th>\n",
       "      <th>SaleCondition_Partial</th>\n",
       "      <th>GarageCond_Ex</th>\n",
       "      <th>Functional_Maj2</th>\n",
       "      <th>SaleType_New</th>\n",
       "      <th>GarageType_BuiltIn</th>\n",
       "      <th>Exterior2nd_CBlock</th>\n",
       "    </tr>\n",
       "  </thead>\n",
       "  <tbody>\n",
       "    <tr>\n",
       "      <th>0</th>\n",
       "      <td>3.044522</td>\n",
       "      <td>80</td>\n",
       "      <td>9.360741</td>\n",
       "      <td>5</td>\n",
       "      <td>6</td>\n",
       "      <td>1961</td>\n",
       "      <td>1961</td>\n",
       "      <td>0.000000</td>\n",
       "      <td>6.150603</td>\n",
       "      <td>4.976734</td>\n",
       "      <td>...</td>\n",
       "      <td>0</td>\n",
       "      <td>0</td>\n",
       "      <td>0</td>\n",
       "      <td>1</td>\n",
       "      <td>0</td>\n",
       "      <td>0</td>\n",
       "      <td>0</td>\n",
       "      <td>0</td>\n",
       "      <td>0</td>\n",
       "      <td>0</td>\n",
       "    </tr>\n",
       "    <tr>\n",
       "      <th>1</th>\n",
       "      <td>3.044522</td>\n",
       "      <td>81</td>\n",
       "      <td>9.565775</td>\n",
       "      <td>6</td>\n",
       "      <td>6</td>\n",
       "      <td>1958</td>\n",
       "      <td>1958</td>\n",
       "      <td>4.691348</td>\n",
       "      <td>6.828712</td>\n",
       "      <td>0.000000</td>\n",
       "      <td>...</td>\n",
       "      <td>0</td>\n",
       "      <td>0</td>\n",
       "      <td>0</td>\n",
       "      <td>1</td>\n",
       "      <td>0</td>\n",
       "      <td>0</td>\n",
       "      <td>0</td>\n",
       "      <td>0</td>\n",
       "      <td>0</td>\n",
       "      <td>0</td>\n",
       "    </tr>\n",
       "    <tr>\n",
       "      <th>2</th>\n",
       "      <td>4.110874</td>\n",
       "      <td>74</td>\n",
       "      <td>9.534668</td>\n",
       "      <td>5</td>\n",
       "      <td>5</td>\n",
       "      <td>1997</td>\n",
       "      <td>1998</td>\n",
       "      <td>0.000000</td>\n",
       "      <td>6.674561</td>\n",
       "      <td>0.000000</td>\n",
       "      <td>...</td>\n",
       "      <td>0</td>\n",
       "      <td>0</td>\n",
       "      <td>0</td>\n",
       "      <td>1</td>\n",
       "      <td>0</td>\n",
       "      <td>0</td>\n",
       "      <td>0</td>\n",
       "      <td>0</td>\n",
       "      <td>0</td>\n",
       "      <td>0</td>\n",
       "    </tr>\n",
       "    <tr>\n",
       "      <th>3</th>\n",
       "      <td>4.110874</td>\n",
       "      <td>78</td>\n",
       "      <td>9.208238</td>\n",
       "      <td>6</td>\n",
       "      <td>6</td>\n",
       "      <td>1998</td>\n",
       "      <td>1998</td>\n",
       "      <td>3.044522</td>\n",
       "      <td>6.401917</td>\n",
       "      <td>0.000000</td>\n",
       "      <td>...</td>\n",
       "      <td>0</td>\n",
       "      <td>0</td>\n",
       "      <td>0</td>\n",
       "      <td>1</td>\n",
       "      <td>0</td>\n",
       "      <td>0</td>\n",
       "      <td>0</td>\n",
       "      <td>0</td>\n",
       "      <td>0</td>\n",
       "      <td>0</td>\n",
       "    </tr>\n",
       "    <tr>\n",
       "      <th>4</th>\n",
       "      <td>4.795791</td>\n",
       "      <td>43</td>\n",
       "      <td>8.518392</td>\n",
       "      <td>8</td>\n",
       "      <td>5</td>\n",
       "      <td>1992</td>\n",
       "      <td>1992</td>\n",
       "      <td>0.000000</td>\n",
       "      <td>5.575949</td>\n",
       "      <td>0.000000</td>\n",
       "      <td>...</td>\n",
       "      <td>0</td>\n",
       "      <td>0</td>\n",
       "      <td>0</td>\n",
       "      <td>1</td>\n",
       "      <td>0</td>\n",
       "      <td>0</td>\n",
       "      <td>0</td>\n",
       "      <td>0</td>\n",
       "      <td>0</td>\n",
       "      <td>0</td>\n",
       "    </tr>\n",
       "  </tbody>\n",
       "</table>\n",
       "<p>5 rows × 254 columns</p>\n",
       "</div>"
      ],
      "text/plain": [
       "   MSSubClass  LotFrontage   LotArea  OverallQual  OverallCond  YearBuilt  \\\n",
       "0    3.044522           80  9.360741            5            6       1961   \n",
       "1    3.044522           81  9.565775            6            6       1958   \n",
       "2    4.110874           74  9.534668            5            5       1997   \n",
       "3    4.110874           78  9.208238            6            6       1998   \n",
       "4    4.795791           43  8.518392            8            5       1992   \n",
       "\n",
       "   YearRemodAdd  MasVnrArea  BsmtFinSF1  BsmtFinSF2         ...          \\\n",
       "0          1961    0.000000    6.150603    4.976734         ...           \n",
       "1          1958    4.691348    6.828712    0.000000         ...           \n",
       "2          1998    0.000000    6.674561    0.000000         ...           \n",
       "3          1998    3.044522    6.401917    0.000000         ...           \n",
       "4          1992    0.000000    5.575949    0.000000         ...           \n",
       "\n",
       "   Functional_Min2  BldgType_Twnhs  RoofStyle_Mansard  RoofMatl_CompShg  \\\n",
       "0                0               0                  0                 1   \n",
       "1                0               0                  0                 1   \n",
       "2                0               0                  0                 1   \n",
       "3                0               0                  0                 1   \n",
       "4                0               0                  0                 1   \n",
       "\n",
       "   SaleCondition_Partial  GarageCond_Ex  Functional_Maj2  SaleType_New  \\\n",
       "0                      0              0                0             0   \n",
       "1                      0              0                0             0   \n",
       "2                      0              0                0             0   \n",
       "3                      0              0                0             0   \n",
       "4                      0              0                0             0   \n",
       "\n",
       "   GarageType_BuiltIn  Exterior2nd_CBlock  \n",
       "0                   0                   0  \n",
       "1                   0                   0  \n",
       "2                   0                   0  \n",
       "3                   0                   0  \n",
       "4                   0                   0  \n",
       "\n",
       "[5 rows x 254 columns]"
      ]
     },
     "execution_count": 7,
     "metadata": {},
     "output_type": "execute_result"
    }
   ],
   "source": [
    "train_df = pd.read_csv('train_cleaned.csv')\n",
    "test_df  = pd.read_csv('test_cleaned.csv')\n",
    "\n",
    "id = test_df['Id']\n",
    "train_df.drop('Id',axis = 1, inplace = True)\n",
    "test_df.drop('Id',axis = 1 , inplace = True)\n",
    "y_train = train_df['SalePrice']\n",
    "x_train = train_df.drop('SalePrice', axis = 1)\n",
    "\n",
    "test_df.head()\n"
   ]
  },
  {
   "cell_type": "markdown",
   "metadata": {},
   "source": [
    "<B> RIDGE MODEL </B>"
   ]
  },
  {
   "cell_type": "code",
   "execution_count": null,
   "metadata": {
    "collapsed": true
   },
   "outputs": [],
   "source": []
  },
  {
   "cell_type": "code",
   "execution_count": 18,
   "metadata": {
    "collapsed": true
   },
   "outputs": [],
   "source": [
    "def printFeature(model,x_train, y_train , performCV = True , cvFolds = 10):\n",
    "    \n",
    "    model.fit(x_train,y_train)\n",
    "    feature_importances = model.feature_importances_\n",
    "    feat_labels = [ x for x in x_train.columns.values]\n",
    "    feat_imp = pd.Series(feature_importances,feat_labels).sort_values(ascending=False)\n",
    "    #print(feat_imp.dtypes)\n",
    "    #plt.bar(feat_labels[:],feat_imp[:])\n",
    "    plt.ylabel('Feature Importances')\n",
    "    #plt.show()\n",
    "    \n",
    "def modelFit(model,x_train,y_train,performCV = True , cvFolds = 10 , modelReport = False):\n",
    "    \n",
    "    model.fit(x_train,y_train)\n",
    "    x_train_predictions = model.predict(x_train)\n",
    "    \n",
    "    if performCV == True :\n",
    "        cv_score_meanSqError = cross_val_score(model,x_train,y_train,cv= cvFolds,scoring = 'neg_mean_squared_error')\n",
    "        cv_score_r2 = cross_val_score(model,x_train,y_train,cv= cvFolds,scoring = 'r2')\n",
    "        \n",
    "    return np.mean(np.sqrt(-cv_score_meanSqError))  # retutn the RMSE error\n",
    "      \n",
    "    if modelReport :\n",
    "        \n",
    "        print(\" Model Report\")\n",
    "        print(\" Mean Squared Error = %.4g\" % metrics.mean_squared_error(y_train.values,x_train_predictions))\n",
    "        print(\" R2 score = %.4g\" % metrics.r2_score(y_train.values,x_train_predictions))\n",
    "          \n",
    "    \n",
    "        print(\" CV Score (Mean Square Error) : Mean - %.7g | Std - %.7g | Min - %.7g | Max - %.7g\" % (np.mean(cv_score_meanSqError),np.std(cv_score_meanSqError),np.min(cv_score_meanSqError),np.max(cv_score_meanSqError)))\n",
    "        print(\" CV Score ( R square        ) : Mean - %.7g | Std - %.7g | Min - %.7g | Max - %.7g\" % (np.mean(cv_score_r2),np.std(cv_score_r2),np.min(cv_score_r2),np.max(cv_score_r2)))\n"
   ]
  },
  {
   "cell_type": "markdown",
   "metadata": {},
   "source": [
    "The main tuning parameter for the Ridge Model in alpha - a regularization parameter that measures how flexible our model is . THe higher the regularization model, the less prone is our model to overfit. However, it will love its ability it flexiblity and might not capture all of the signal data in the data."
   ]
  },
  {
   "cell_type": "code",
   "execution_count": 25,
   "metadata": {
    "collapsed": false
   },
   "outputs": [
    {
     "data": {
      "image/png": "[encoded data removed]",
      "text/plain": [
       "<matplotlib.figure.Figure at 0x7fc8243bfa90>"
      ]
     },
     "metadata": {
      "image/png": {
       "height": 283,
       "width": 396
      }
     },
     "output_type": "display_data"
    }
   ],
   "source": [
    "alphas = [0.05,0.1,0.3,1,3,5,10,15,30,50,75]\n",
    "\n",
    "RMSE_cv = []\n",
    "\n",
    "for alpha in alphas:\n",
    "    model = Ridge (alpha = alpha)\n",
    "    RMSE_cv.append(modelFit(model, x_train,y_train,performCV = True,modelReport=False))\n",
    "\n",
    "RMSE_cv = pd.Series(RMSE_cv,index = alphas)\n",
    "RMSE_cv.plot(title = \"Validation\")\n",
    "plt.xlabel(\"alpha\")\n",
    "plt.ylabel(\"rmse\")\n",
    "plt.show()\n",
    "\n"
   ]
  },
  {
   "cell_type": "markdown",
   "metadata": {},
   "source": [
    "We choose an alpha value of that minimizes the error.  When alpha is too large the regularization is too strong and the model cannot capture all the complexities in the data. If however we let the model be too flexible (alpha small) the model begins to overfit. \n",
    "\n",
    "<B> We may verify it by using grid search as well. </B>"
   ]
  },
  {
   "cell_type": "code",
   "execution_count": 29,
   "metadata": {
    "collapsed": false
   },
   "outputs": [
    {
     "data": {
      "text/plain": [
       "GridSearchCV(cv=5, error_score='raise',\n",
       "       estimator=Ridge(alpha=75, copy_X=True, fit_intercept=True, max_iter=None,\n",
       "   normalize=False, random_state=None, solver='auto', tol=0.001),\n",
       "       fit_params={}, iid=False, n_jobs=4,\n",
       "       param_grid={'alpha': [0.05, 0.1, 0.3, 1, 3, 5, 10, 15, 30, 50, 75]},\n",
       "       pre_dispatch='2*n_jobs', refit=True, scoring='r2', verbose=0)"
      ]
     },
     "execution_count": 29,
     "metadata": {},
     "output_type": "execute_result"
    }
   ],
   "source": [
    "from sklearn.grid_search import GridSearchCV\n",
    "\n",
    "param_test1 =  {'alpha' : [0.05,0.1,0.3,1,3,5,10,15,30,50,75]}\n",
    "model = Ridge()\n",
    "gridSearch1 =  GridSearchCV(estimator = model, \n",
    "                       param_grid = param_test1, scoring='r2',n_jobs=4,iid=False, cv=5)\n",
    "gridSearch1.fit(x_train,y_train)"
   ]
  },
  {
   "cell_type": "code",
   "execution_count": 30,
   "metadata": {
    "collapsed": false
   },
   "outputs": [
    {
     "data": {
      "text/plain": [
       "([mean: 0.86789, std: 0.02809, params: {'alpha': 0.05},\n",
       "  mean: 0.87223, std: 0.02750, params: {'alpha': 0.1},\n",
       "  mean: 0.88096, std: 0.02665, params: {'alpha': 0.3},\n",
       "  mean: 0.88974, std: 0.02622, params: {'alpha': 1},\n",
       "  mean: 0.89509, std: 0.02625, params: {'alpha': 3},\n",
       "  mean: 0.89658, std: 0.02621, params: {'alpha': 5},\n",
       "  mean: 0.89736, std: 0.02599, params: {'alpha': 10},\n",
       "  mean: 0.89697, std: 0.02579, params: {'alpha': 15},\n",
       "  mean: 0.89447, std: 0.02535, params: {'alpha': 30},\n",
       "  mean: 0.89101, std: 0.02495, params: {'alpha': 50},\n",
       "  mean: 0.88733, std: 0.02460, params: {'alpha': 75}],\n",
       " {'alpha': 10},\n",
       " 0.8973551848166219)"
      ]
     },
     "execution_count": 30,
     "metadata": {},
     "output_type": "execute_result"
    }
   ],
   "source": [
    "gridSearch1.grid_scores_, gridSearch1.best_params_ , gridSearch1.best_score_"
   ]
  },
  {
   "cell_type": "markdown",
   "metadata": {},
   "source": [
    "<B> LASSO Model </B>"
   ]
  },
  {
   "cell_type": "code",
   "execution_count": 40,
   "metadata": {
    "collapsed": false
   },
   "outputs": [
    {
     "data": {
      "image/png": "[encoded data removed]",
      "text/plain": [
       "<matplotlib.figure.Figure at 0x7fc8226154a8>"
      ]
     },
     "metadata": {
      "image/png": {
       "height": 283,
       "width": 395
      }
     },
     "output_type": "display_data"
    }
   ],
   "source": [
    "# alphas in Lasso CV are really the inverse or the alphas in Ridge.\n",
    "\n",
    "alphas = [0.0005,0.005,0.1,0.5,1,10]\n",
    "\n",
    "RMSE_cv = []\n",
    "\n",
    "for alpha in alphas:\n",
    "    model = Lasso (alpha = alpha)\n",
    "    RMSE_cv.append(modelFit(model, x_train,y_train,performCV = True,modelReport=False))\n",
    "\n",
    "RMSE_cv = pd.Series(RMSE_cv,index = alphas)\n",
    "RMSE_cv.plot(title = \"Validation\")\n",
    "plt.xlabel(\"alpha\")\n",
    "plt.ylabel(\"rmse\")\n",
    "plt.show()"
   ]
  },
  {
   "cell_type": "code",
   "execution_count": 44,
   "metadata": {
    "collapsed": false
   },
   "outputs": [
    {
     "data": {
      "text/plain": [
       "GridSearchCV(cv=5, error_score='raise',\n",
       "       estimator=Lasso(alpha=1.0, copy_X=True, fit_intercept=True, max_iter=1000,\n",
       "   normalize=False, positive=False, precompute=False, random_state=None,\n",
       "   selection='cyclic', tol=0.0001, warm_start=False),\n",
       "       fit_params={}, iid=False, n_jobs=4,\n",
       "       param_grid={'alpha': [0.05, 0.1, 0.3, 1, 3, 5, 10, 15, 30, 50, 75]},\n",
       "       pre_dispatch='2*n_jobs', refit=True, scoring='r2', verbose=0)"
      ]
     },
     "execution_count": 44,
     "metadata": {},
     "output_type": "execute_result"
    }
   ],
   "source": [
    "param_test1 =  {'alpha' : [0.05,0.1,0.3,1,3,5,10,15,30,50,75]}\n",
    "model = Lasso()\n",
    "gridSearch1 =  GridSearchCV(estimator = model, \n",
    "                       param_grid = param_test1, scoring='r2',n_jobs=4,iid=False, cv=5)\n",
    "gridSearch1.fit(x_train,y_train)"
   ]
  },
  {
   "cell_type": "code",
   "execution_count": 45,
   "metadata": {
    "collapsed": false
   },
   "outputs": [
    {
     "data": {
      "text/plain": [
       "([mean: 0.78569, std: 0.02626, params: {'alpha': 0.05},\n",
       "  mean: 0.72288, std: 0.03402, params: {'alpha': 0.1},\n",
       "  mean: 0.56075, std: 0.04334, params: {'alpha': 0.3},\n",
       "  mean: 0.54545, std: 0.04021, params: {'alpha': 1},\n",
       "  mean: 0.44285, std: 0.05020, params: {'alpha': 3},\n",
       "  mean: 0.41298, std: 0.04719, params: {'alpha': 5},\n",
       "  mean: 0.40343, std: 0.03923, params: {'alpha': 10},\n",
       "  mean: 0.38693, std: 0.03216, params: {'alpha': 15},\n",
       "  mean: 0.29564, std: 0.01661, params: {'alpha': 30},\n",
       "  mean: 0.07647, std: 0.01297, params: {'alpha': 50},\n",
       "  mean: -0.00347, std: 0.00513, params: {'alpha': 75}],\n",
       " {'alpha': 0.05},\n",
       " 0.7856863075090943)"
      ]
     },
     "execution_count": 45,
     "metadata": {},
     "output_type": "execute_result"
    }
   ],
   "source": [
    "gridSearch1.grid_scores_, gridSearch1.best_params_ , gridSearch1.best_score_"
   ]
  },
  {
   "cell_type": "code",
   "execution_count": 61,
   "metadata": {
    "collapsed": false
   },
   "outputs": [
    {
     "data": {
      "text/plain": [
       "GridSearchCV(cv=5, error_score='raise',\n",
       "       estimator=Lasso(alpha=1.0, copy_X=True, fit_intercept=True, max_iter=1000,\n",
       "   normalize=False, positive=False, precompute=False, random_state=None,\n",
       "   selection='cyclic', tol=0.0001, warm_start=False),\n",
       "       fit_params={}, iid=False, n_jobs=4,\n",
       "       param_grid={'alpha': [0.0005, 0.001, 0.005, 0.01, 0.05, 0.1]},\n",
       "       pre_dispatch='2*n_jobs', refit=True, scoring='r2', verbose=0)"
      ]
     },
     "execution_count": 61,
     "metadata": {},
     "output_type": "execute_result"
    }
   ],
   "source": [
    "param_test2 =  {'alpha' : [0.0005,0.0010,0.005,0.010,0.05,0.10]}\n",
    "model = Lasso()\n",
    "gridSearch2 =  GridSearchCV(estimator = model, \n",
    "                       param_grid = param_test2, scoring='r2',n_jobs=4,iid=False, cv=5)\n",
    "gridSearch2.fit(x_train,y_train)"
   ]
  },
  {
   "cell_type": "code",
   "execution_count": 62,
   "metadata": {
    "collapsed": false
   },
   "outputs": [
    {
     "data": {
      "text/plain": [
       "([mean: 0.90322, std: 0.02435, params: {'alpha': 0.0005},\n",
       "  mean: 0.90194, std: 0.02455, params: {'alpha': 0.001},\n",
       "  mean: 0.87104, std: 0.02657, params: {'alpha': 0.005},\n",
       "  mean: 0.84997, std: 0.02637, params: {'alpha': 0.01},\n",
       "  mean: 0.78569, std: 0.02626, params: {'alpha': 0.05},\n",
       "  mean: 0.72288, std: 0.03402, params: {'alpha': 0.1}],\n",
       " {'alpha': 0.0005},\n",
       " 0.903222238510699)"
      ]
     },
     "execution_count": 62,
     "metadata": {},
     "output_type": "execute_result"
    }
   ],
   "source": [
    "gridSearch2.grid_scores_, gridSearch2.best_params_ , gridSearch2.best_score_"
   ]
  },
  {
   "cell_type": "markdown",
   "metadata": {},
   "source": [
    "<B> Hell Yeah ! Lasso Model performs even better. </B> We will move on to the feature_selection that it does."
   ]
  },
  {
   "cell_type": "code",
   "execution_count": null,
   "metadata": {
    "collapsed": true
   },
   "outputs": [],
   "source": []
  }
 ],
 "metadata": {
  "kernelspec": {
   "display_name": "Python 3",
   "language": "python",
   "name": "python3"
  },
  "language_info": {
   "codemirror_mode": {
    "name": "ipython",
    "version": 3
   },
   "file_extension": ".py",
   "mimetype": "text/x-python",
   "name": "python",
   "nbconvert_exporter": "python",
   "pygments_lexer": "ipython3",
   "version": "3.5.0"
  }
 },
 "nbformat": 4,
 "nbformat_minor": 0
}
